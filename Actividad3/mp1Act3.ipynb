{
 "cells": [
  {
   "cell_type": "markdown",
   "metadata": {},
   "source": [
    "## Miniproyecto 1 (Actividad 3)"
   ]
  },
  {
   "cell_type": "code",
   "execution_count": 1,
   "metadata": {},
   "outputs": [],
   "source": [
    "import pandas as pd"
   ]
  },
  {
   "cell_type": "markdown",
   "metadata": {},
   "source": [
    "### Transformación e Imputación de Datos"
   ]
  },
  {
   "cell_type": "code",
   "execution_count": null,
   "metadata": {},
   "outputs": [],
   "source": [
    "class procesamiento():\n",
    "    def __init__(self, algo):\n",
    "        self.algo = algo\n",
    "\n",
    "    def loadData(self, folder:str, sample=False, useColumns=[]):\n",
    "        pass\n",
    "\n",
    "    def diagnosis(self, db, mean=True, stdDev=True, lostValues=True, maxVal=True, minVal=True, descriptors=[]):\n",
    "        pass\n",
    "\n",
    "    def fillMissing(self, descriptors=[], db=[], strats=[]):\n",
    "        return db\n",
    "    \n",
    "    def graph(self, xVar, yVar, graphType, save=False):\n",
    "        pass\n",
    "\n",
    "    def processDescriptors(self, db, strat):\n",
    "        return db\n",
    "    \n",
    "    def trainAndTestSets(self, db):\n",
    "        # Generar semilla aleatoria (seed)\n",
    "        pass"
   ]
  },
  {
   "cell_type": "code",
   "execution_count": null,
   "metadata": {},
   "outputs": [],
   "source": [
    "def ejecutar_procesamiento():\n",
    "    pass"
   ]
  },
  {
   "cell_type": "code",
   "execution_count": null,
   "metadata": {},
   "outputs": [],
   "source": [
    "ejecutar_procesamiento()"
   ]
  },
  {
   "cell_type": "markdown",
   "metadata": {},
   "source": [
    "### Entrenamiento de modelos"
   ]
  },
  {
   "cell_type": "code",
   "execution_count": null,
   "metadata": {},
   "outputs": [],
   "source": [
    "def clasificador(type, saveTo, trainingData):\n",
    "    pass"
   ]
  },
  {
   "cell_type": "code",
   "execution_count": null,
   "metadata": {},
   "outputs": [],
   "source": [
    "def evaluar_rendimiento(folder:str, data, analysisType):\n",
    "    pass"
   ]
  }
 ],
 "metadata": {
  "kernelspec": {
   "display_name": "entornoConda",
   "language": "python",
   "name": "python3"
  },
  "language_info": {
   "codemirror_mode": {
    "name": "ipython",
    "version": 3
   },
   "file_extension": ".py",
   "mimetype": "text/x-python",
   "name": "python",
   "nbconvert_exporter": "python",
   "pygments_lexer": "ipython3",
   "version": "3.12.7"
  }
 },
 "nbformat": 4,
 "nbformat_minor": 2
}
