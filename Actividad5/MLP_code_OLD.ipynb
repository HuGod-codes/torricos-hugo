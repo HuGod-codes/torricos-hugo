{
 "cells": [
  {
   "cell_type": "code",
   "execution_count": 2,
   "metadata": {
    "colab": {
     "base_uri": "https://localhost:8080/",
     "height": 1000
    },
    "id": "UXqJRwEFDHzg",
    "outputId": "19c5253b-6739-41cc-de53-a4e2a1ef290f"
   },
   "outputs": [],
   "source": [
    "import matplotlib.pyplot as plt\n",
    "import torchvision.transforms as transforms\n",
    "from torchvision import datasets\n",
    "from torch.utils.data import DataLoader\n",
    "import torch\n",
    "import torch.nn as nn\n",
    "import torch.optim as optim"
   ]
  },
  {
   "cell_type": "markdown",
   "metadata": {},
   "source": [
    "# Datos"
   ]
  },
  {
   "cell_type": "code",
   "execution_count": 4,
   "metadata": {},
   "outputs": [
    {
     "data": {
      "image/png": "[encoded data removed]",
      "text/plain": [
       "<Figure size 1200x400 with 16 Axes>"
      ]
     },
     "metadata": {},
     "output_type": "display_data"
    }
   ],
   "source": [
    "\n",
    "# Load MNIST dataset\n",
    "# Definimos una secuencia de transformaciones para aplicar a las imágenes del dataset.\n",
    "# En este caso, solo convertimos las imágenes a tensores utilizando `ToTensor()`.\n",
    "# Esto es necesario para que las imágenes estén en un formato compatible con PyTorch.\n",
    "transform = transforms.Compose([\n",
    "    transforms.ToTensor()  # Convierte la imagen de un formato PIL o numpy.ndarray a un tensor.\n",
    "])\n",
    "\n",
    "# Cargamos el dataset MNIST de entrenamiento.\n",
    "# `root='./data'` especifica el directorio donde se descargarán los datos si no están presentes.\n",
    "# `train=True` indica que queremos el conjunto de datos de entrenamiento.\n",
    "# `transform=transform` aplica las transformaciones definidas previamente a cada imagen.\n",
    "# `download=True` descarga los datos si no están disponibles en el directorio especificado.\n",
    "mnist_dataset = datasets.MNIST(\n",
    "    root='./data', train=True, transform=transform, download=True\n",
    ")\n",
    "\n",
    "# Creamos un DataLoader que nos permite cargar los datos en lotes pequeños.\n",
    "# `dataset=mnist_dataset` es el dataset que se cargará.\n",
    "# `batch_size=16` indica que cada lote contendrá 16 imágenes y etiquetas.\n",
    "# `shuffle=True` mezcla los datos aleatoriamente en cada época, mejorando la generalización del modelo.\n",
    "data_loader = DataLoader(\n",
    "    mnist_dataset, batch_size=16, shuffle=True\n",
    ")\n",
    "\n",
    "# Obtenemos un único lote de datos del DataLoader.\n",
    "# `next(iter(data_loader))` convierte el DataLoader en un iterador y toma el primer lote.\n",
    "# El lote contiene `images` (los tensores de las imágenes) y `labels` (las etiquetas correspondientes).\n",
    "images, labels = next(iter(data_loader))\n",
    "\n",
    "\n",
    "# Plot the images in a grid\n",
    "plt.figure(figsize=(12, 4))\n",
    "for i in range(16):\n",
    "    plt.subplot(2, 8, i + 1)\n",
    "    plt.imshow(images[i].squeeze(), cmap='gray')\n",
    "    plt.title(f'Label: {labels[i].item()}')\n",
    "    plt.axis('off')\n",
    "plt.tight_layout()\n",
    "plt.show()"
   ]
  },
  {
   "cell_type": "markdown",
   "metadata": {},
   "source": [
    "# Arquitectura"
   ]
  },
  {
   "cell_type": "code",
   "execution_count": 19,
   "metadata": {
    "colab": {
     "base_uri": "https://localhost:8080/"
    },
    "id": "UT7LMM57CqC6",
    "outputId": "698dda5e-9c78-4a2a-b65b-8a22aec7eedc"
   },
   "outputs": [],
   "source": [
    "\n",
    "# Definimos el modelo MLP\n",
    "# MLP hereda de nn.Module, lo que permite utilizar las funciones y propiedades de PyTorch\n",
    "# para crear, entrenar y evaluar redes neuronales.\n",
    "class MLP(nn.Module):\n",
    "    def __init__(self):\n",
    "        # Inicializamos la clase base nn.Module\n",
    "        # Esto habilita funciones esenciales como la gestión de capas y forward pass.\n",
    "        super(MLP, self).__init__()\n",
    "        # Capa completamente conectada: de entrada (28x28 píxeles) a 512 neuronas\n",
    "        self.fc1 = nn.Linear(28 * 28, 1024)\n",
    "        # Capa oculta: de 512 neuronas a 256 neuronas\n",
    "        self.fc2 = nn.Linear(1024, 256)\n",
    "        # Capa de salida: de 256 neuronas a 10 clases (números del 0 al 9)\n",
    "        self.fc3 = nn.Linear(256, 10)\n",
    "        # Función de activación ReLU\n",
    "        self.relu = nn.Sigmoid()\n",
    "        # Dropout para evitar sobreajuste\n",
    "        self.dropout = nn.Dropout(0.2)\n",
    "\n",
    "    # Definimos cómo pasa la información a través de la red\n",
    "    # Este método es obligatorio en las clases que heredan de nn.Module.\n",
    "    def forward(self, x):\n",
    "        x = x.view(-1, 28 * 28)  # Aplanamos las imágenes (de 28x28 a 1D)\n",
    "        x = self.relu(self.fc1(x))  # Aplicamos la primera capa y ReLU\n",
    "        x = self.dropout(x)         # Aplicamos Dropout\n",
    "        x = self.relu(self.fc2(x))  # Aplicamos la segunda capa y ReLU\n",
    "        x = self.dropout(x)         # Aplicamos Dropout\n",
    "        x = self.fc3(x)             # Aplicamos la capa de salida\n",
    "        return x"
   ]
  },
  {
   "cell_type": "markdown",
   "metadata": {},
   "source": [
    "# Entrenamiento"
   ]
  },
  {
   "cell_type": "code",
   "execution_count": 33,
   "metadata": {},
   "outputs": [
    {
     "name": "stdout",
     "output_type": "stream",
     "text": [
      "Época [1/15], Pérdida: 0.4847\n",
      "Época [2/15], Pérdida: 0.1458\n",
      "Época [3/15], Pérdida: 0.1521\n",
      "Época [4/15], Pérdida: 0.1998\n",
      "Época [5/15], Pérdida: 0.1385\n",
      "Época [6/15], Pérdida: 0.0091\n",
      "Época [7/15], Pérdida: 0.0136\n",
      "Época [8/15], Pérdida: 0.0421\n",
      "Época [9/15], Pérdida: 0.0538\n",
      "Época [10/15], Pérdida: 0.0181\n",
      "Época [11/15], Pérdida: 0.1440\n",
      "Época [12/15], Pérdida: 0.3604\n",
      "Época [13/15], Pérdida: 0.2776\n",
      "Época [14/15], Pérdida: 0.2623\n",
      "Época [15/15], Pérdida: 0.0023\n"
     ]
    }
   ],
   "source": [
    "# Hiperparámetros\n",
    "batch_size = 32       # Tamaño de lote\n",
    "learning_rate = 0.001 # Tasa de aprendizaje\n",
    "epochs = 15           # Número de épocas de entrenamiento\n",
    "\n",
    "# Preprocesamiento y carga de datos de MNIST\n",
    "transform = transforms.Compose([\n",
    "    transforms.ToTensor(),                 # Convertimos imágenes a tensores\n",
    "    transforms.Normalize((0.5,), (0.5,))  # Normalizamos a media 0 y varianza 1\n",
    "])\n",
    "train_dataset = datasets.MNIST(\n",
    "    root='./data', train=True, transform=transform, download=True)  # Dataset de entrenamiento\n",
    "test_dataset = datasets.MNIST(\n",
    "    root='./data', train=False, transform=transform, download=True)  # Dataset de prueba\n",
    "train_loader = DataLoader(\n",
    "    dataset=train_dataset, batch_size=batch_size, shuffle=True)  # Dataloader para entrenamiento\n",
    "test_loader = DataLoader(\n",
    "    dataset=test_dataset, batch_size=batch_size, shuffle=False)  # Dataloader para prueba\n",
    "\n",
    "# Definimos el modelo, la función de pérdida y el optimizador\n",
    "model = MLP()                             # Creamos una instancia del modelo MLP\n",
    "criterion = nn.CrossEntropyLoss()         # Función de pérdida para clasificación\n",
    "optimizer = optim.RMSprop(model.parameters(), lr=learning_rate)  # Optimizador Adam\n",
    "\n",
    "# Bucle de entrenamiento\n",
    "for epoch in range(epochs):\n",
    "    model.train()  # Ponemos el modelo en modo entrenamiento\n",
    "    for images, labels in train_loader:  # Iteramos sobre lotes de datos\n",
    "        optimizer.zero_grad()            # Reiniciamos los gradientes\n",
    "        outputs = model(images)          # Hacemos una predicción con el modelo\n",
    "        loss = criterion(outputs, labels)  # Calculamos la pérdida\n",
    "        loss.backward()                  # Propagamos los gradientes\n",
    "        optimizer.step()                 # Actualizamos los pesos del modelo\n",
    "\n",
    "    # Mostramos la pérdida al final de cada época\n",
    "    print(f\"Época [{epoch+1}/{epochs}], Pérdida: {loss.item():.4f}\")\n",
    "\n"
   ]
  },
  {
   "cell_type": "markdown",
   "metadata": {},
   "source": [
    "# Evaluación del modelo"
   ]
  },
  {
   "cell_type": "code",
   "execution_count": 34,
   "metadata": {
    "id": "tTyHa34XCrxN"
   },
   "outputs": [
    {
     "name": "stdout",
     "output_type": "stream",
     "text": [
      "Accuracy en el conjunto de prueba: 98.03%\n"
     ]
    }
   ],
   "source": [
    "model.eval()  # Ponemos el modelo en modo evaluación (desactiva Dropout)\n",
    "correct = 0\n",
    "total = 0\n",
    "with torch.no_grad():  # Desactivamos el cálculo de gradientes para evaluación\n",
    "    for images, labels in test_loader:  # Iteramos sobre los datos de prueba\n",
    "        outputs = model(images)         # Hacemos predicciones\n",
    "        _, predicted = torch.max(outputs.data, 1)  # Obtenemos la clase con mayor probabilidad\n",
    "        total += labels.size(0)         # Total de muestras evaluadas\n",
    "        correct += (predicted == labels).sum().item()  # Contamos las predicciones correctas\n",
    "\n",
    "# Calculamos y mostramos la precisión del modelo\n",
    "accuracy = 100 * correct / total\n",
    "print(f\"Accuracy en el conjunto de prueba: {accuracy:.2f}%\")"
   ]
  }
 ],
 "metadata": {
  "colab": {
   "provenance": []
  },
  "kernelspec": {
   "display_name": "entornoConda",
   "language": "python",
   "name": "python3"
  },
  "language_info": {
   "codemirror_mode": {
    "name": "ipython",
    "version": 3
   },
   "file_extension": ".py",
   "mimetype": "text/x-python",
   "name": "python",
   "nbconvert_exporter": "python",
   "pygments_lexer": "ipython3",
   "version": "3.12.7"
  }
 },
 "nbformat": 4,
 "nbformat_minor": 0
}
